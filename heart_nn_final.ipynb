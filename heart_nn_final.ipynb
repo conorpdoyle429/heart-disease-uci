{
 "cells": [
  {
   "cell_type": "code",
   "execution_count": 2,
   "metadata": {},
   "outputs": [],
   "source": [
    "# This notebook will use data on heart disease from https://www.kaggle.com/ronitf/heart-disease-uci\n",
    "# to make a neural network to predict whether a patient has heart disease"
   ]
  },
  {
   "cell_type": "code",
   "execution_count": 3,
   "metadata": {},
   "outputs": [],
   "source": [
    "# first we will import packages"
   ]
  },
  {
   "cell_type": "code",
   "execution_count": 4,
   "metadata": {},
   "outputs": [],
   "source": [
    "import tensorflow as tf\n",
    "import numpy as np\n",
    "import os\n",
    "import pandas as pd\n",
    "import matplotlib.pyplot as plt\n",
    "from sklearn.model_selection import train_test_split\n",
    "from tensorflow.python.framework import ops\n",
    "from tensorflow import keras\n",
    "from tensorflow.keras import layers\n",
    "import tensorflow_addons as tfa\n",
    "from sklearn import preprocessing"
   ]
  },
  {
   "cell_type": "code",
   "execution_count": 5,
   "metadata": {},
   "outputs": [],
   "source": [
    "plt.close('all')"
   ]
  },
  {
   "cell_type": "code",
   "execution_count": 6,
   "metadata": {},
   "outputs": [],
   "source": [
    "dir_path = os.path.dirname(os.path.realpath(\"__file__\"))\n",
    "file_name = dir_path + \"/heart.csv\""
   ]
  },
  {
   "cell_type": "code",
   "execution_count": 7,
   "metadata": {},
   "outputs": [],
   "source": [
    "# make numpy values easier to read\n",
    "np.set_printoptions(precision=3, suppress=True)"
   ]
  },
  {
   "cell_type": "code",
   "execution_count": 8,
   "metadata": {},
   "outputs": [],
   "source": [
    "df = pd.read_csv(file_name)"
   ]
  },
  {
   "cell_type": "code",
   "execution_count": 9,
   "metadata": {},
   "outputs": [],
   "source": [
    "# The raw data is as follows:"
   ]
  },
  {
   "cell_type": "code",
   "execution_count": 10,
   "metadata": {},
   "outputs": [
    {
     "data": {
      "text/html": [
       "<div>\n",
       "<style scoped>\n",
       "    .dataframe tbody tr th:only-of-type {\n",
       "        vertical-align: middle;\n",
       "    }\n",
       "\n",
       "    .dataframe tbody tr th {\n",
       "        vertical-align: top;\n",
       "    }\n",
       "\n",
       "    .dataframe thead th {\n",
       "        text-align: right;\n",
       "    }\n",
       "</style>\n",
       "<table border=\"1\" class=\"dataframe\">\n",
       "  <thead>\n",
       "    <tr style=\"text-align: right;\">\n",
       "      <th></th>\n",
       "      <th>age</th>\n",
       "      <th>sex</th>\n",
       "      <th>cp</th>\n",
       "      <th>trestbps</th>\n",
       "      <th>chol</th>\n",
       "      <th>fbs</th>\n",
       "      <th>restecg</th>\n",
       "      <th>thalach</th>\n",
       "      <th>exang</th>\n",
       "      <th>oldpeak</th>\n",
       "      <th>slope</th>\n",
       "      <th>ca</th>\n",
       "      <th>thal</th>\n",
       "      <th>target</th>\n",
       "    </tr>\n",
       "  </thead>\n",
       "  <tbody>\n",
       "    <tr>\n",
       "      <th>0</th>\n",
       "      <td>63</td>\n",
       "      <td>1</td>\n",
       "      <td>3</td>\n",
       "      <td>145</td>\n",
       "      <td>233</td>\n",
       "      <td>1</td>\n",
       "      <td>0</td>\n",
       "      <td>150</td>\n",
       "      <td>0</td>\n",
       "      <td>2.3</td>\n",
       "      <td>0</td>\n",
       "      <td>0</td>\n",
       "      <td>1</td>\n",
       "      <td>1</td>\n",
       "    </tr>\n",
       "    <tr>\n",
       "      <th>1</th>\n",
       "      <td>37</td>\n",
       "      <td>1</td>\n",
       "      <td>2</td>\n",
       "      <td>130</td>\n",
       "      <td>250</td>\n",
       "      <td>0</td>\n",
       "      <td>1</td>\n",
       "      <td>187</td>\n",
       "      <td>0</td>\n",
       "      <td>3.5</td>\n",
       "      <td>0</td>\n",
       "      <td>0</td>\n",
       "      <td>2</td>\n",
       "      <td>1</td>\n",
       "    </tr>\n",
       "    <tr>\n",
       "      <th>2</th>\n",
       "      <td>41</td>\n",
       "      <td>0</td>\n",
       "      <td>1</td>\n",
       "      <td>130</td>\n",
       "      <td>204</td>\n",
       "      <td>0</td>\n",
       "      <td>0</td>\n",
       "      <td>172</td>\n",
       "      <td>0</td>\n",
       "      <td>1.4</td>\n",
       "      <td>2</td>\n",
       "      <td>0</td>\n",
       "      <td>2</td>\n",
       "      <td>1</td>\n",
       "    </tr>\n",
       "    <tr>\n",
       "      <th>3</th>\n",
       "      <td>56</td>\n",
       "      <td>1</td>\n",
       "      <td>1</td>\n",
       "      <td>120</td>\n",
       "      <td>236</td>\n",
       "      <td>0</td>\n",
       "      <td>1</td>\n",
       "      <td>178</td>\n",
       "      <td>0</td>\n",
       "      <td>0.8</td>\n",
       "      <td>2</td>\n",
       "      <td>0</td>\n",
       "      <td>2</td>\n",
       "      <td>1</td>\n",
       "    </tr>\n",
       "    <tr>\n",
       "      <th>4</th>\n",
       "      <td>57</td>\n",
       "      <td>0</td>\n",
       "      <td>0</td>\n",
       "      <td>120</td>\n",
       "      <td>354</td>\n",
       "      <td>0</td>\n",
       "      <td>1</td>\n",
       "      <td>163</td>\n",
       "      <td>1</td>\n",
       "      <td>0.6</td>\n",
       "      <td>2</td>\n",
       "      <td>0</td>\n",
       "      <td>2</td>\n",
       "      <td>1</td>\n",
       "    </tr>\n",
       "  </tbody>\n",
       "</table>\n",
       "</div>"
      ],
      "text/plain": [
       "   age  sex  cp  trestbps  chol  fbs  restecg  thalach  exang  oldpeak  slope  \\\n",
       "0   63    1   3       145   233    1        0      150      0      2.3      0   \n",
       "1   37    1   2       130   250    0        1      187      0      3.5      0   \n",
       "2   41    0   1       130   204    0        0      172      0      1.4      2   \n",
       "3   56    1   1       120   236    0        1      178      0      0.8      2   \n",
       "4   57    0   0       120   354    0        1      163      1      0.6      2   \n",
       "\n",
       "   ca  thal  target  \n",
       "0   0     1       1  \n",
       "1   0     2       1  \n",
       "2   0     2       1  \n",
       "3   0     2       1  \n",
       "4   0     2       1  "
      ]
     },
     "execution_count": 10,
     "metadata": {},
     "output_type": "execute_result"
    }
   ],
   "source": [
    "df.head()"
   ]
  },
  {
   "cell_type": "code",
   "execution_count": 11,
   "metadata": {},
   "outputs": [
    {
     "data": {
      "text/plain": [
       "'\\nThe attributes represented here are:\\n    1. age (in years)\\n    2. sex (0=female, 1=male)\\n    3. cp. Chest pain type (0=asymptomatic, 1=atypical angina, 2=pain without relation to angina, 3=typical angina)\\n    4. trestbps. Resting blood pressure (mm Hg)\\n    5. chol. Serum cholestoral (mg/dl)\\n    6. restecg. Electrocardiogram at rest (0=probable left ventricular hypertrophy, 1=normal, 2=abnormalities in the T wave or ST segment)\\n    7. fbs. Blood sugar level > 120mg/dl (0=no, 1=yes)\\n    8. thalach. Maximum heart rate achieved\\n    9. exang. Exercise induced angina(0=no, 1=yes)\\n    10. oldpeak = ST depression induced by exercise relative to rest\\n    11. slope = the slope of the peak exercise ST segment (0=descending, 1=flat, 2=ascending)\\n    12.number of major vessels coloured by dye (0-4)\\n    13.thal. Blood flow observed by dye. (0=null, 1=normal, 2=fixed defect, 3=reversable defect)\\n    14. target (0=does not have heart disease, 1=has heart disease)\\n'"
      ]
     },
     "execution_count": 11,
     "metadata": {},
     "output_type": "execute_result"
    }
   ],
   "source": [
    "'''\n",
    "The attributes represented here are:\n",
    "    1. age (in years)\n",
    "    2. sex (0=female, 1=male)\n",
    "    3. cp. Chest pain type (0=asymptomatic, 1=atypical angina, 2=pain without relation to angina, 3=typical angina)\n",
    "    4. trestbps. Resting blood pressure (mm Hg)\n",
    "    5. chol. Serum cholestoral (mg/dl)\n",
    "    6. restecg. Electrocardiogram at rest (0=probable left ventricular hypertrophy, 1=normal, 2=abnormalities in the T wave or ST segment)\n",
    "    7. fbs. Blood sugar level > 120mg/dl (0=no, 1=yes)\n",
    "    8. thalach. Maximum heart rate achieved\n",
    "    9. exang. Exercise induced angina(0=no, 1=yes)\n",
    "    10. oldpeak = ST depression induced by exercise relative to rest\n",
    "    11. slope = the slope of the peak exercise ST segment (0=descending, 1=flat, 2=ascending)\n",
    "    12.number of major vessels coloured by dye (0-4)\n",
    "    13.thal. Blood flow observed by dye. (0=null, 1=normal, 2=fixed defect, 3=reversable defect)\n",
    "    14. target (0=does not have heart disease, 1=has heart disease)\n",
    "'''"
   ]
  },
  {
   "cell_type": "code",
   "execution_count": 12,
   "metadata": {},
   "outputs": [
    {
     "data": {
      "text/plain": [
       "<Figure size 432x288 with 0 Axes>"
      ]
     },
     "metadata": {},
     "output_type": "display_data"
    }
   ],
   "source": [
    "plt.figure();"
   ]
  },
  {
   "cell_type": "code",
   "execution_count": 13,
   "metadata": {},
   "outputs": [],
   "source": [
    "# FUNCTIONS FOR DATA VISUALISATION"
   ]
  },
  {
   "cell_type": "code",
   "execution_count": 14,
   "metadata": {},
   "outputs": [
    {
     "data": {
      "text/plain": [
       "'\\nplot_bar_range will plot a bar chart for not binary data\\nInputs:\\n    category = name of column\\n    minimum = smallest value on x axis\\n    maximum = largest value on x axis\\n    category_range = the range of values represented by each bar\\n'"
      ]
     },
     "execution_count": 14,
     "metadata": {},
     "output_type": "execute_result"
    }
   ],
   "source": [
    "'''\n",
    "plot_bar_range will plot a bar chart for non binary data\n",
    "Inputs:\n",
    "    category = name of column\n",
    "    minimum = smallest value on x axis\n",
    "    maximum = largest value on x axis\n",
    "    category_range = the range of values represented by each bar\n",
    "'''"
   ]
  },
  {
   "cell_type": "code",
   "execution_count": 15,
   "metadata": {},
   "outputs": [],
   "source": [
    "def plot_bar_range(category,minimum, maximum, category_range):\n",
    "    number_of_labels = int((maximum - minimum) / category_range)\n",
    "    # initiate the labels and values\n",
    "    labels = []\n",
    "    values = []\n",
    "    # for each age range add the count to the values array\n",
    "    for x in range(number_of_labels):\n",
    "        start = minimum + x * category_range\n",
    "        end = start + category_range\n",
    "        labels.append(str(start) + \"-\" + str(end))\n",
    "        range_value = df[category].between(start, end, inclusive = True).value_counts().sort_index()\n",
    "        # if there is a true value there will age range values will be length 2\n",
    "        # value[0] is false and value[1] = true\n",
    "        # if not length 2 then there are no true values so value is 0\n",
    "        if (len(range_value.values) == 2):\n",
    "            values.append(range_value.values[1])\n",
    "        else:\n",
    "            values.append(0)\n",
    "    # create a data frame\n",
    "    data = pd.DataFrame({category:labels, 'val':values})\n",
    "    # plot the bar chart\n",
    "    data.plot.bar(x=category, y='val', rot=0)\n",
    "    plt.xticks(rotation=90)"
   ]
  },
  {
   "cell_type": "code",
   "execution_count": 16,
   "metadata": {},
   "outputs": [
    {
     "data": {
      "text/plain": [
       "'\\nplot_bar will plot a bar chart for binary data\\nInputs:\\n    category = name of column\\n'"
      ]
     },
     "execution_count": 16,
     "metadata": {},
     "output_type": "execute_result"
    }
   ],
   "source": [
    "'''\n",
    "plot_bar will plot a bar chart for binary data\n",
    "Inputs:\n",
    "    category = name of column\n",
    "'''"
   ]
  },
  {
   "cell_type": "code",
   "execution_count": 17,
   "metadata": {},
   "outputs": [],
   "source": [
    "def plot_bar(category):\n",
    "     # initiate the labels and values\n",
    "    labels = []\n",
    "    values = []\n",
    "    # get counts of each value\n",
    "    value_counts = df[category].value_counts().sort_index()\n",
    "    value_index = value_counts.index.tolist()\n",
    "    value = value_counts.values\n",
    "    # for every entry add the key and value\n",
    "    for i in range (len(value)):\n",
    "        labels.append(value_index[i])\n",
    "        values.append(value[i])\n",
    "    # create a data frame\n",
    "    data = pd.DataFrame({category:labels, 'val':values})\n",
    "    # plot the bar chart\n",
    "    data.plot.bar(x=category, y='val', rot=0)\n",
    "    plt.xticks(rotation='horizontal')"
   ]
  },
  {
   "cell_type": "code",
   "execution_count": 18,
   "metadata": {},
   "outputs": [
    {
     "data": {
      "text/plain": [
       "'\\nplot_pie_range will plot a pie chart for not binary data\\nInputs:\\n    category = name of column\\n    minimum = smallest value on x axis\\n    maximum = largest value on x axis\\n    category_range = the range of values represented by each bar\\n'"
      ]
     },
     "execution_count": 18,
     "metadata": {},
     "output_type": "execute_result"
    }
   ],
   "source": [
    "'''\n",
    "plot_pie_range will plot a pie chart for non binary data\n",
    "Inputs:\n",
    "    category = name of column\n",
    "    minimum = smallest value on x axis\n",
    "    maximum = largest value on x axis\n",
    "    category_range = the range of values represented by each bar\n",
    "'''"
   ]
  },
  {
   "cell_type": "code",
   "execution_count": 19,
   "metadata": {},
   "outputs": [],
   "source": [
    "def plot_pie_range(category,minimum, maximum, category_range):\n",
    "    number_of_labels = int((maximum - minimum) / category_range)\n",
    "    # initiate the labels and values\n",
    "    labels = []\n",
    "    values = []\n",
    "    # for each age range add the count to the values array\n",
    "    for x in range(number_of_labels):\n",
    "        start = minimum + x * category_range\n",
    "        end = start + category_range\n",
    "        labels.append(str(start) + \"-\" + str(end))\n",
    "        range_value = df[category].between(start, end, inclusive = True).value_counts().sort_index()\n",
    "        # if there is a true value there will age range values will be length 2\n",
    "        # value[0] is false and value[1] = true\n",
    "        # if not length 2 then there are no true values so value is 0\n",
    "        if (len(range_value.values) == 2):\n",
    "            values.append(range_value.values[1])\n",
    "        else:\n",
    "            values.append(0)\n",
    "    # create a data frame\n",
    "    data = pd.Series(values,index = labels, name=category)\n",
    "    # plot the pie chart\n",
    "    data.plot.pie(subplots=True, figsize=(8, 4))"
   ]
  },
  {
   "cell_type": "code",
   "execution_count": 20,
   "metadata": {},
   "outputs": [
    {
     "data": {
      "text/plain": [
       "'\\nplot_pie will plot a pie chart for not binary data\\nInputs:\\n    category = name of column\\n'"
      ]
     },
     "execution_count": 20,
     "metadata": {},
     "output_type": "execute_result"
    }
   ],
   "source": [
    "'''\n",
    "plot_pie will plot a pie chart for binary data\n",
    "Inputs:\n",
    "    category = name of column\n",
    "'''"
   ]
  },
  {
   "cell_type": "code",
   "execution_count": 21,
   "metadata": {},
   "outputs": [],
   "source": [
    "def plot_pie(category):\n",
    "     # initiate the labels and values\n",
    "    labels = []\n",
    "    values = []\n",
    "    # get counts of each value\n",
    "    value_counts = df[category].value_counts().sort_index()\n",
    "    value_index = value_counts.index.tolist()\n",
    "    value = value_counts.values\n",
    "    # for every entry add the key and value\n",
    "    for i in range (len(value)):\n",
    "        labels.append(value_index[i])\n",
    "        values.append(value[i])\n",
    "    # create a data frame\n",
    "    data = pd.Series(values, index=labels, name=category)\n",
    "    # plot the pie chart\n",
    "    data.plot.pie(subplots=True, figsize=(8, 4))"
   ]
  },
  {
   "cell_type": "code",
   "execution_count": 22,
   "metadata": {},
   "outputs": [],
   "source": [
    "# IMPLEMENTATION OF DATA VISUALISATION"
   ]
  },
  {
   "cell_type": "code",
   "execution_count": 23,
   "metadata": {},
   "outputs": [],
   "source": [
    "# Gender of the patients. 0: female, 1: male"
   ]
  },
  {
   "cell_type": "code",
   "execution_count": 24,
   "metadata": {},
   "outputs": [
    {
     "data": {
      "image/png": "[encoded data removed]",
      "text/plain": [
       "<Figure size 432x288 with 1 Axes>"
      ]
     },
     "metadata": {
      "needs_background": "light"
     },
     "output_type": "display_data"
    }
   ],
   "source": [
    "plot_bar('sex')"
   ]
  },
  {
   "cell_type": "code",
   "execution_count": 25,
   "metadata": {},
   "outputs": [
    {
     "data": {
      "image/png": "[encoded data removed]",
      "text/plain": [
       "<Figure size 576x288 with 1 Axes>"
      ]
     },
     "metadata": {},
     "output_type": "display_data"
    }
   ],
   "source": [
    "plot_pie('sex')"
   ]
  },
  {
   "cell_type": "code",
   "execution_count": 26,
   "metadata": {},
   "outputs": [],
   "source": [
    "# age of the patients"
   ]
  },
  {
   "cell_type": "code",
   "execution_count": 27,
   "metadata": {},
   "outputs": [
    {
     "data": {
      "image/png": "[encoded data removed]",
      "text/plain": [
       "<Figure size 432x288 with 1 Axes>"
      ]
     },
     "metadata": {
      "needs_background": "light"
     },
     "output_type": "display_data"
    }
   ],
   "source": [
    "plot_bar_range('age',20, 80, 5)"
   ]
  },
  {
   "cell_type": "code",
   "execution_count": 28,
   "metadata": {},
   "outputs": [
    {
     "data": {
      "image/png": "[encoded data removed]",
      "text/plain": [
       "<Figure size 576x288 with 1 Axes>"
      ]
     },
     "metadata": {},
     "output_type": "display_data"
    }
   ],
   "source": [
    "plot_pie_range('age',20, 80, 5)"
   ]
  },
  {
   "cell_type": "code",
   "execution_count": 29,
   "metadata": {},
   "outputs": [],
   "source": [
    "# Chest pain. 0: asymptomatic, 1: atypical angina, 2: pain without relation to angina, 3: typical angina"
   ]
  },
  {
   "cell_type": "code",
   "execution_count": 30,
   "metadata": {},
   "outputs": [
    {
     "data": {
      "image/png": "[encoded data removed]",
      "text/plain": [
       "<Figure size 432x288 with 1 Axes>"
      ]
     },
     "metadata": {
      "needs_background": "light"
     },
     "output_type": "display_data"
    }
   ],
   "source": [
    "plot_bar('cp')"
   ]
  },
  {
   "cell_type": "code",
   "execution_count": 31,
   "metadata": {},
   "outputs": [
    {
     "data": {
      "image/png": "[encoded data removed]",
      "text/plain": [
       "<Figure size 432x288 with 1 Axes>"
      ]
     },
     "metadata": {
      "needs_background": "light"
     },
     "output_type": "display_data"
    }
   ],
   "source": [
    "plot_bar_range('trestbps',90, 210, 10)"
   ]
  },
  {
   "cell_type": "code",
   "execution_count": 32,
   "metadata": {},
   "outputs": [],
   "source": [
    "# Cholesterol level in mg/dl"
   ]
  },
  {
   "cell_type": "code",
   "execution_count": 33,
   "metadata": {},
   "outputs": [
    {
     "data": {
      "image/png": "[encoded data removed]",
      "text/plain": [
       "<Figure size 432x288 with 1 Axes>"
      ]
     },
     "metadata": {
      "needs_background": "light"
     },
     "output_type": "display_data"
    }
   ],
   "source": [
    "plot_bar_range('chol',100, 400, 30)"
   ]
  },
  {
   "cell_type": "code",
   "execution_count": 34,
   "metadata": {},
   "outputs": [],
   "source": [
    "# Blood sugar level > 120 mg/dl. 0: no, 1: yes"
   ]
  },
  {
   "cell_type": "code",
   "execution_count": 35,
   "metadata": {},
   "outputs": [
    {
     "data": {
      "image/png": "[encoded data removed]",
      "text/plain": [
       "<Figure size 432x288 with 1 Axes>"
      ]
     },
     "metadata": {
      "needs_background": "light"
     },
     "output_type": "display_data"
    }
   ],
   "source": [
    "plot_bar('fbs')"
   ]
  },
  {
   "cell_type": "code",
   "execution_count": 36,
   "metadata": {},
   "outputs": [],
   "source": [
    "# Electrocardiogram at rest. 0: probable left ventricular hypertrophy, 1: normal, 2: abnormalities in the T wave or ST segment"
   ]
  },
  {
   "cell_type": "code",
   "execution_count": 37,
   "metadata": {},
   "outputs": [
    {
     "data": {
      "image/png": "[encoded data removed]",
      "text/plain": [
       "<Figure size 432x288 with 1 Axes>"
      ]
     },
     "metadata": {
      "needs_background": "light"
     },
     "output_type": "display_data"
    }
   ],
   "source": [
    "plot_bar('restecg')"
   ]
  },
  {
   "cell_type": "code",
   "execution_count": 38,
   "metadata": {},
   "outputs": [],
   "source": [
    "# Maxium heart rate"
   ]
  },
  {
   "cell_type": "code",
   "execution_count": 39,
   "metadata": {},
   "outputs": [
    {
     "data": {
      "image/png": "[encoded data removed]",
      "text/plain": [
       "<Figure size 432x288 with 1 Axes>"
      ]
     },
     "metadata": {
      "needs_background": "light"
     },
     "output_type": "display_data"
    }
   ],
   "source": [
    "plot_bar_range('thalach',100, 210, 10)"
   ]
  },
  {
   "cell_type": "code",
   "execution_count": 40,
   "metadata": {},
   "outputs": [],
   "source": [
    "# Angina during exercise. 0: no, 1: yes"
   ]
  },
  {
   "cell_type": "code",
   "execution_count": 41,
   "metadata": {},
   "outputs": [
    {
     "data": {
      "image/png": "[encoded data removed]",
      "text/plain": [
       "<Figure size 432x288 with 1 Axes>"
      ]
     },
     "metadata": {
      "needs_background": "light"
     },
     "output_type": "display_data"
    }
   ],
   "source": [
    "plot_bar('exang')"
   ]
  },
  {
   "cell_type": "code",
   "execution_count": 42,
   "metadata": {},
   "outputs": [],
   "source": [
    "# ST depression induced by exercise relative to rest"
   ]
  },
  {
   "cell_type": "code",
   "execution_count": 43,
   "metadata": {},
   "outputs": [
    {
     "data": {
      "image/png": "[encoded data removed]",
      "text/plain": [
       "<Figure size 432x288 with 1 Axes>"
      ]
     },
     "metadata": {
      "needs_background": "light"
     },
     "output_type": "display_data"
    }
   ],
   "source": [
    "plot_bar_range('oldpeak',0, 4.5, 0.5)"
   ]
  },
  {
   "cell_type": "code",
   "execution_count": 44,
   "metadata": {},
   "outputs": [],
   "source": [
    "# Slope of the peak exercise ST segment. 0:descending, 1:flat, 2:ascending"
   ]
  },
  {
   "cell_type": "code",
   "execution_count": 45,
   "metadata": {},
   "outputs": [
    {
     "data": {
      "image/png": "[encoded data removed]",
      "text/plain": [
       "<Figure size 432x288 with 1 Axes>"
      ]
     },
     "metadata": {
      "needs_background": "light"
     },
     "output_type": "display_data"
    }
   ],
   "source": [
    "plot_bar('slope')"
   ]
  },
  {
   "cell_type": "code",
   "execution_count": 46,
   "metadata": {},
   "outputs": [],
   "source": [
    "# Number of major vessels coloured by dye (0-4)"
   ]
  },
  {
   "cell_type": "code",
   "execution_count": 47,
   "metadata": {},
   "outputs": [
    {
     "data": {
      "image/png": "[encoded data removed]",
      "text/plain": [
       "<Figure size 432x288 with 1 Axes>"
      ]
     },
     "metadata": {
      "needs_background": "light"
     },
     "output_type": "display_data"
    }
   ],
   "source": [
    "plot_bar('ca')"
   ]
  },
  {
   "cell_type": "code",
   "execution_count": 48,
   "metadata": {},
   "outputs": [],
   "source": [
    "# Blood flow observed by dye. 0: null, 1: normal, 2: fixed defect, 3: reversable defect "
   ]
  },
  {
   "cell_type": "code",
   "execution_count": 49,
   "metadata": {},
   "outputs": [
    {
     "data": {
      "image/png": "[encoded data removed]",
      "text/plain": [
       "<Figure size 432x288 with 1 Axes>"
      ]
     },
     "metadata": {
      "needs_background": "light"
     },
     "output_type": "display_data"
    }
   ],
   "source": [
    "plot_bar('thal')"
   ]
  },
  {
   "cell_type": "code",
   "execution_count": 50,
   "metadata": {},
   "outputs": [],
   "source": [
    "# Patient has heart disease. 0: no, 1: yes"
   ]
  },
  {
   "cell_type": "code",
   "execution_count": 51,
   "metadata": {},
   "outputs": [
    {
     "data": {
      "image/png": "[encoded data removed]",
      "text/plain": [
       "<Figure size 432x288 with 1 Axes>"
      ]
     },
     "metadata": {
      "needs_background": "light"
     },
     "output_type": "display_data"
    }
   ],
   "source": [
    "plot_bar('target')"
   ]
  },
  {
   "cell_type": "code",
   "execution_count": 52,
   "metadata": {},
   "outputs": [],
   "source": [
    "# FUNCTIONS FOR TENSORFLOW"
   ]
  },
  {
   "cell_type": "code",
   "execution_count": 53,
   "metadata": {},
   "outputs": [],
   "source": [
    "# one_hot_matrix implements one hot encoding for a specific column"
   ]
  },
  {
   "cell_type": "code",
   "execution_count": 54,
   "metadata": {},
   "outputs": [],
   "source": [
    "def one_hot_matrix(labels, C):\n",
    "    \"\"\"\n",
    "    Creates a matrix where the i-th row corresponds to the ith class number and the jth column\n",
    "                     corresponds to the jth training example. So if example j had a label i. Then entry (i,j) \n",
    "                     will be 1. \n",
    "    Arguments:\n",
    "    labels -- vector containing the labels \n",
    "    C -- number of classes, the depth of the one hot dimension\n",
    "    \n",
    "    Returns: \n",
    "    one_hot -- one hot matrix\n",
    "    \"\"\"\n",
    "    # Create a tf.constant equal to C (depth)\n",
    "    C = tf.constant(C, name = \"C\")\n",
    "    # Use tf.one_hot, be careful with the axis\n",
    "    one_hot_matrix = tf.one_hot(indices = labels, depth = C, axis = 0)\n",
    "    return one_hot_matrix"
   ]
  },
  {
   "cell_type": "code",
   "execution_count": 55,
   "metadata": {},
   "outputs": [],
   "source": [
    "# add_one_hot_matrix_columns implements one hot encoding for a array of columns and updates the data"
   ]
  },
  {
   "cell_type": "code",
   "execution_count": 56,
   "metadata": {},
   "outputs": [],
   "source": [
    "def add_one_hot_matrix_columns(data, columns):\n",
    "    for column in columns:\n",
    "        unique_values = data[column].nunique()\n",
    "        one_hot = one_hot_matrix(data[column], unique_values)\n",
    "        data = data.drop(columns=column)\n",
    "        for i in range(unique_values):\n",
    "            new_column = str(column) + \"_\" + str(i)\n",
    "            data[new_column] = one_hot[i]\n",
    "    return data "
   ]
  },
  {
   "cell_type": "code",
   "execution_count": 57,
   "metadata": {},
   "outputs": [
    {
     "data": {
      "text/plain": [
       "'\\nforward_propagation creates the neural network model.\\nThere are 4 layers and the structure is:\\n    LINEAR -> RELU -> LINEAR -> RELU -> LINEAR -> RELU -> LINEAR -> SIGMOID\\nXavier initialisation is used in linear layers for weights. Bias is initialised as zero\\nInputs:\\n    layer1_units: depth of 1st layer\\n    layer2_units: depth of 2nd layer\\n    layer3_units: depth of 3rd layer\\n    layer4_units: depth of 4th layer\\n'"
      ]
     },
     "execution_count": 57,
     "metadata": {},
     "output_type": "execute_result"
    }
   ],
   "source": [
    "'''\n",
    "forward_propagation creates the neural network model.\n",
    "There are 4 layers and the structure is:\n",
    "    LINEAR -> RELU -> LINEAR -> RELU -> LINEAR -> RELU -> LINEAR -> SIGMOID\n",
    "Xavier initialisation is used in linear layers for weights. Bias is initialised as zero\n",
    "Inputs:\n",
    "    layer1_units: depth of 1st layer\n",
    "    layer2_units: depth of 2nd layer\n",
    "    layer3_units: depth of 3rd layer\n",
    "    layer4_units: depth of 4th layer\n",
    "''' "
   ]
  },
  {
   "cell_type": "code",
   "execution_count": 58,
   "metadata": {},
   "outputs": [],
   "source": [
    "def forward_propagation(layer1_units, layer2_units, layer3_units, layer4_units):   \n",
    "    glorot = tf.keras.initializers.GlorotNormal(seed=1)\n",
    "    model = tf.keras.Sequential([\n",
    "        layers.Dense(layer1_units, kernel_initializer=glorot, bias_initializer='zeros'),\n",
    "        layers.Dense(layer1_units,activation='relu'),\n",
    "        layers.Dense(layer2_units,kernel_initializer=glorot, bias_initializer='zeros'),\n",
    "        layers.Dense(layer2_units, activation='relu'),\n",
    "        layers.Dense(layer3_units, kernel_initializer=glorot, bias_initializer='zeros'),\n",
    "        layers.Dense(layer3_units, activation='relu'),\n",
    "        layers.Dense(layer4_units, kernel_initializer=glorot, bias_initializer='zeros'),\n",
    "        layers.Dense(1, activation='sigmoid')\n",
    "    ])\n",
    "    return model"
   ]
  },
  {
   "cell_type": "code",
   "execution_count": 59,
   "metadata": {},
   "outputs": [],
   "source": [
    "# initialize_data splits the data into training, dev and test sets"
   ]
  },
  {
   "cell_type": "code",
   "execution_count": 60,
   "metadata": {},
   "outputs": [],
   "source": [
    "def initialize_data(X, y):\n",
    "    X_train, X_dev_test, y_train, y_dev_test = train_test_split(X, y, test_size=0.2, random_state=1)\n",
    "    X_test, X_dev, y_test, y_dev = train_test_split(X_dev_test, y_dev_test, test_size=0.5, random_state=1)\n",
    "    y_train = y_train.values.reshape(y_train.shape[0],1)\n",
    "    y_test = y_test.values.reshape(y_test.shape[0],1)\n",
    "    y_dev = y_dev.values.reshape(y_dev.shape[0],1)\n",
    "    X_train = X_train.to_numpy()\n",
    "    X_test = X_test.to_numpy()\n",
    "    X_dev = X_dev.to_numpy()\n",
    "    return X_train, X_dev, X_test, y_train, y_dev, y_test"
   ]
  },
  {
   "cell_type": "code",
   "execution_count": 61,
   "metadata": {},
   "outputs": [],
   "source": [
    "# normalize_data executes (x - mean) / standard deviation"
   ]
  },
  {
   "cell_type": "code",
   "execution_count": 62,
   "metadata": {},
   "outputs": [],
   "source": [
    "def normalize_data(data):\n",
    "    mean = np.mean(data)\n",
    "    std = np.std(data)\n",
    "    return (data - mean) / std"
   ]
  },
  {
   "cell_type": "code",
   "execution_count": 63,
   "metadata": {},
   "outputs": [],
   "source": [
    "# plot_loss creates a graph of the cost function against number of iterations"
   ]
  },
  {
   "cell_type": "code",
   "execution_count": 64,
   "metadata": {},
   "outputs": [],
   "source": [
    "def plot_loss(losses, training_rate):\n",
    "    plt.plot(np.squeeze(losses.history['loss']))\n",
    "    plt.ylabel('cost')\n",
    "    plt.xlabel('iterations')\n",
    "    plt.title(\"Learning rate =\" + str(training_rate))\n",
    "    plt.ylim(ymin=0.4) \n",
    "    plt.ylim(ymax=0.7)\n",
    "    plt.show()"
   ]
  },
  {
   "cell_type": "code",
   "execution_count": 65,
   "metadata": {},
   "outputs": [],
   "source": [
    "# evaluate_model evaluates success of model and prints predictions and actual values from the test set"
   ]
  },
  {
   "cell_type": "code",
   "execution_count": 66,
   "metadata": {},
   "outputs": [],
   "source": [
    "def evaluate_model(model, X_test, y_test):\n",
    "    results = model.evaluate(X_test, y_test)\n",
    "    print('test loss, test acc:', results)\n",
    "    amount_to_display = 30\n",
    "    predictions = model.predict(X_test[:amount_to_display])\n",
    "    for i in range(amount_to_display):\n",
    "        print(\"Prediction: \" + str(predictions[i]) + \". Actual: \" + str(y_test[:amount_to_display][i]))"
   ]
  },
  {
   "cell_type": "code",
   "execution_count": 67,
   "metadata": {},
   "outputs": [
    {
     "data": {
      "text/plain": [
       "'\\ncreate_ model creates the model\\ninitialises the data and creates the model\\nincludes learning rate decay and adam optimsation\\nplots the loss and evaluates the model\\n'"
      ]
     },
     "execution_count": 67,
     "metadata": {},
     "output_type": "execute_result"
    }
   ],
   "source": [
    "'''\n",
    "create_ model creates the model\n",
    "initialises the data and creates the model\n",
    "includes learning rate decay and adam optimsation\n",
    "plots the loss and evaluates the model\n",
    "'''"
   ]
  },
  {
   "cell_type": "code",
   "execution_count": 68,
   "metadata": {},
   "outputs": [],
   "source": [
    "def create_model(X, y, layer1_units, layer2_units, layer3_units, layer4_units, epochs, training_rate, decay_rate, metric):\n",
    "    X_train, X_dev, X_test, y_train, y_dev, y_test = initialize_data(X, y)\n",
    "    model = forward_propagation(layer1_units,layer2_units, layer3_units, layer4_units)\n",
    "    global_step = tf.Variable(0, trainable=False)\n",
    "    learning_rate = tf.compat.v1.train.exponential_decay(training_rate, global_step, epochs, decay_rate, staircase=True)\n",
    "    model.compile(optimizer=tf.keras.optimizers.Adam(learning_rate),\n",
    "              loss=tf.nn.sigmoid_cross_entropy_with_logits,\n",
    "              metrics=[metric])\n",
    "    losses = model.fit(X_train, y_train,\n",
    "                    epochs=epochs,\n",
    "                    validation_data=(X_dev, y_dev))\n",
    "    plot_loss(losses, training_rate)\n",
    "    evaluate_model(model, X_test, y_test)\n",
    "    return model"
   ]
  },
  {
   "cell_type": "code",
   "execution_count": 69,
   "metadata": {},
   "outputs": [],
   "source": [
    "# IMPLEMENTING NEURAL NETWORK"
   ]
  },
  {
   "cell_type": "code",
   "execution_count": 70,
   "metadata": {},
   "outputs": [],
   "source": [
    "# create a train dev test split"
   ]
  },
  {
   "cell_type": "code",
   "execution_count": 71,
   "metadata": {},
   "outputs": [],
   "source": [
    "X = df.drop(columns=\"target\")\n",
    "y = df['target']"
   ]
  },
  {
   "cell_type": "code",
   "execution_count": 72,
   "metadata": {},
   "outputs": [
    {
     "data": {
      "text/html": [
       "<div>\n",
       "<style scoped>\n",
       "    .dataframe tbody tr th:only-of-type {\n",
       "        vertical-align: middle;\n",
       "    }\n",
       "\n",
       "    .dataframe tbody tr th {\n",
       "        vertical-align: top;\n",
       "    }\n",
       "\n",
       "    .dataframe thead th {\n",
       "        text-align: right;\n",
       "    }\n",
       "</style>\n",
       "<table border=\"1\" class=\"dataframe\">\n",
       "  <thead>\n",
       "    <tr style=\"text-align: right;\">\n",
       "      <th></th>\n",
       "      <th>age</th>\n",
       "      <th>sex</th>\n",
       "      <th>cp</th>\n",
       "      <th>trestbps</th>\n",
       "      <th>chol</th>\n",
       "      <th>fbs</th>\n",
       "      <th>restecg</th>\n",
       "      <th>thalach</th>\n",
       "      <th>exang</th>\n",
       "      <th>oldpeak</th>\n",
       "      <th>slope</th>\n",
       "      <th>ca</th>\n",
       "      <th>thal</th>\n",
       "    </tr>\n",
       "  </thead>\n",
       "  <tbody>\n",
       "    <tr>\n",
       "      <th>0</th>\n",
       "      <td>63</td>\n",
       "      <td>1</td>\n",
       "      <td>3</td>\n",
       "      <td>145</td>\n",
       "      <td>233</td>\n",
       "      <td>1</td>\n",
       "      <td>0</td>\n",
       "      <td>150</td>\n",
       "      <td>0</td>\n",
       "      <td>2.3</td>\n",
       "      <td>0</td>\n",
       "      <td>0</td>\n",
       "      <td>1</td>\n",
       "    </tr>\n",
       "    <tr>\n",
       "      <th>1</th>\n",
       "      <td>37</td>\n",
       "      <td>1</td>\n",
       "      <td>2</td>\n",
       "      <td>130</td>\n",
       "      <td>250</td>\n",
       "      <td>0</td>\n",
       "      <td>1</td>\n",
       "      <td>187</td>\n",
       "      <td>0</td>\n",
       "      <td>3.5</td>\n",
       "      <td>0</td>\n",
       "      <td>0</td>\n",
       "      <td>2</td>\n",
       "    </tr>\n",
       "    <tr>\n",
       "      <th>2</th>\n",
       "      <td>41</td>\n",
       "      <td>0</td>\n",
       "      <td>1</td>\n",
       "      <td>130</td>\n",
       "      <td>204</td>\n",
       "      <td>0</td>\n",
       "      <td>0</td>\n",
       "      <td>172</td>\n",
       "      <td>0</td>\n",
       "      <td>1.4</td>\n",
       "      <td>2</td>\n",
       "      <td>0</td>\n",
       "      <td>2</td>\n",
       "    </tr>\n",
       "    <tr>\n",
       "      <th>3</th>\n",
       "      <td>56</td>\n",
       "      <td>1</td>\n",
       "      <td>1</td>\n",
       "      <td>120</td>\n",
       "      <td>236</td>\n",
       "      <td>0</td>\n",
       "      <td>1</td>\n",
       "      <td>178</td>\n",
       "      <td>0</td>\n",
       "      <td>0.8</td>\n",
       "      <td>2</td>\n",
       "      <td>0</td>\n",
       "      <td>2</td>\n",
       "    </tr>\n",
       "    <tr>\n",
       "      <th>4</th>\n",
       "      <td>57</td>\n",
       "      <td>0</td>\n",
       "      <td>0</td>\n",
       "      <td>120</td>\n",
       "      <td>354</td>\n",
       "      <td>0</td>\n",
       "      <td>1</td>\n",
       "      <td>163</td>\n",
       "      <td>1</td>\n",
       "      <td>0.6</td>\n",
       "      <td>2</td>\n",
       "      <td>0</td>\n",
       "      <td>2</td>\n",
       "    </tr>\n",
       "    <tr>\n",
       "      <th>...</th>\n",
       "      <td>...</td>\n",
       "      <td>...</td>\n",
       "      <td>...</td>\n",
       "      <td>...</td>\n",
       "      <td>...</td>\n",
       "      <td>...</td>\n",
       "      <td>...</td>\n",
       "      <td>...</td>\n",
       "      <td>...</td>\n",
       "      <td>...</td>\n",
       "      <td>...</td>\n",
       "      <td>...</td>\n",
       "      <td>...</td>\n",
       "    </tr>\n",
       "    <tr>\n",
       "      <th>298</th>\n",
       "      <td>57</td>\n",
       "      <td>0</td>\n",
       "      <td>0</td>\n",
       "      <td>140</td>\n",
       "      <td>241</td>\n",
       "      <td>0</td>\n",
       "      <td>1</td>\n",
       "      <td>123</td>\n",
       "      <td>1</td>\n",
       "      <td>0.2</td>\n",
       "      <td>1</td>\n",
       "      <td>0</td>\n",
       "      <td>3</td>\n",
       "    </tr>\n",
       "    <tr>\n",
       "      <th>299</th>\n",
       "      <td>45</td>\n",
       "      <td>1</td>\n",
       "      <td>3</td>\n",
       "      <td>110</td>\n",
       "      <td>264</td>\n",
       "      <td>0</td>\n",
       "      <td>1</td>\n",
       "      <td>132</td>\n",
       "      <td>0</td>\n",
       "      <td>1.2</td>\n",
       "      <td>1</td>\n",
       "      <td>0</td>\n",
       "      <td>3</td>\n",
       "    </tr>\n",
       "    <tr>\n",
       "      <th>300</th>\n",
       "      <td>68</td>\n",
       "      <td>1</td>\n",
       "      <td>0</td>\n",
       "      <td>144</td>\n",
       "      <td>193</td>\n",
       "      <td>1</td>\n",
       "      <td>1</td>\n",
       "      <td>141</td>\n",
       "      <td>0</td>\n",
       "      <td>3.4</td>\n",
       "      <td>1</td>\n",
       "      <td>2</td>\n",
       "      <td>3</td>\n",
       "    </tr>\n",
       "    <tr>\n",
       "      <th>301</th>\n",
       "      <td>57</td>\n",
       "      <td>1</td>\n",
       "      <td>0</td>\n",
       "      <td>130</td>\n",
       "      <td>131</td>\n",
       "      <td>0</td>\n",
       "      <td>1</td>\n",
       "      <td>115</td>\n",
       "      <td>1</td>\n",
       "      <td>1.2</td>\n",
       "      <td>1</td>\n",
       "      <td>1</td>\n",
       "      <td>3</td>\n",
       "    </tr>\n",
       "    <tr>\n",
       "      <th>302</th>\n",
       "      <td>57</td>\n",
       "      <td>0</td>\n",
       "      <td>1</td>\n",
       "      <td>130</td>\n",
       "      <td>236</td>\n",
       "      <td>0</td>\n",
       "      <td>0</td>\n",
       "      <td>174</td>\n",
       "      <td>0</td>\n",
       "      <td>0.0</td>\n",
       "      <td>1</td>\n",
       "      <td>1</td>\n",
       "      <td>2</td>\n",
       "    </tr>\n",
       "  </tbody>\n",
       "</table>\n",
       "<p>303 rows × 13 columns</p>\n",
       "</div>"
      ],
      "text/plain": [
       "     age  sex  cp  trestbps  chol  fbs  restecg  thalach  exang  oldpeak  \\\n",
       "0     63    1   3       145   233    1        0      150      0      2.3   \n",
       "1     37    1   2       130   250    0        1      187      0      3.5   \n",
       "2     41    0   1       130   204    0        0      172      0      1.4   \n",
       "3     56    1   1       120   236    0        1      178      0      0.8   \n",
       "4     57    0   0       120   354    0        1      163      1      0.6   \n",
       "..   ...  ...  ..       ...   ...  ...      ...      ...    ...      ...   \n",
       "298   57    0   0       140   241    0        1      123      1      0.2   \n",
       "299   45    1   3       110   264    0        1      132      0      1.2   \n",
       "300   68    1   0       144   193    1        1      141      0      3.4   \n",
       "301   57    1   0       130   131    0        1      115      1      1.2   \n",
       "302   57    0   1       130   236    0        0      174      0      0.0   \n",
       "\n",
       "     slope  ca  thal  \n",
       "0        0   0     1  \n",
       "1        0   0     2  \n",
       "2        2   0     2  \n",
       "3        2   0     2  \n",
       "4        2   0     2  \n",
       "..     ...  ..   ...  \n",
       "298      1   0     3  \n",
       "299      1   0     3  \n",
       "300      1   2     3  \n",
       "301      1   1     3  \n",
       "302      1   1     2  \n",
       "\n",
       "[303 rows x 13 columns]"
      ]
     },
     "execution_count": 72,
     "metadata": {},
     "output_type": "execute_result"
    }
   ],
   "source": [
    "X"
   ]
  },
  {
   "cell_type": "code",
   "execution_count": 73,
   "metadata": {},
   "outputs": [],
   "source": [
    "X_norm = X.copy()"
   ]
  },
  {
   "cell_type": "code",
   "execution_count": 74,
   "metadata": {},
   "outputs": [],
   "source": [
    "# normalise the data"
   ]
  },
  {
   "cell_type": "code",
   "execution_count": 75,
   "metadata": {},
   "outputs": [],
   "source": [
    "X_norm['age'] = normalize_data(X_norm['age'])\n",
    "X_norm['trestbps'] = normalize_data(X_norm['trestbps'])\n",
    "X_norm['chol'] = normalize_data(X_norm['chol'])\n",
    "X_norm['thalach'] = normalize_data(X_norm['thalach'])\n",
    "X_norm['oldpeak'] = normalize_data(X_norm['oldpeak'])"
   ]
  },
  {
   "cell_type": "code",
   "execution_count": 76,
   "metadata": {},
   "outputs": [],
   "source": [
    "# use one hot encoding"
   ]
  },
  {
   "cell_type": "code",
   "execution_count": 77,
   "metadata": {},
   "outputs": [],
   "source": [
    "columns = ['cp', 'slope', 'restecg', 'ca', 'thal']\n",
    "X_one_hot = add_one_hot_matrix_columns(X, columns)\n",
    "X_norm_one_hot = add_one_hot_matrix_columns(X_norm, columns)"
   ]
  },
  {
   "cell_type": "code",
   "execution_count": 78,
   "metadata": {},
   "outputs": [
    {
     "data": {
      "text/html": [
       "<div>\n",
       "<style scoped>\n",
       "    .dataframe tbody tr th:only-of-type {\n",
       "        vertical-align: middle;\n",
       "    }\n",
       "\n",
       "    .dataframe tbody tr th {\n",
       "        vertical-align: top;\n",
       "    }\n",
       "\n",
       "    .dataframe thead th {\n",
       "        text-align: right;\n",
       "    }\n",
       "</style>\n",
       "<table border=\"1\" class=\"dataframe\">\n",
       "  <thead>\n",
       "    <tr style=\"text-align: right;\">\n",
       "      <th></th>\n",
       "      <th>age</th>\n",
       "      <th>sex</th>\n",
       "      <th>trestbps</th>\n",
       "      <th>chol</th>\n",
       "      <th>fbs</th>\n",
       "      <th>thalach</th>\n",
       "      <th>exang</th>\n",
       "      <th>oldpeak</th>\n",
       "      <th>cp_0</th>\n",
       "      <th>cp_1</th>\n",
       "      <th>...</th>\n",
       "      <th>restecg_2</th>\n",
       "      <th>ca_0</th>\n",
       "      <th>ca_1</th>\n",
       "      <th>ca_2</th>\n",
       "      <th>ca_3</th>\n",
       "      <th>ca_4</th>\n",
       "      <th>thal_0</th>\n",
       "      <th>thal_1</th>\n",
       "      <th>thal_2</th>\n",
       "      <th>thal_3</th>\n",
       "    </tr>\n",
       "  </thead>\n",
       "  <tbody>\n",
       "    <tr>\n",
       "      <th>0</th>\n",
       "      <td>0.952197</td>\n",
       "      <td>1</td>\n",
       "      <td>0.763956</td>\n",
       "      <td>-0.256334</td>\n",
       "      <td>1</td>\n",
       "      <td>0.015443</td>\n",
       "      <td>0</td>\n",
       "      <td>1.087338</td>\n",
       "      <td>0.0</td>\n",
       "      <td>0.0</td>\n",
       "      <td>...</td>\n",
       "      <td>0.0</td>\n",
       "      <td>1.0</td>\n",
       "      <td>0.0</td>\n",
       "      <td>0.0</td>\n",
       "      <td>0.0</td>\n",
       "      <td>0.0</td>\n",
       "      <td>0.0</td>\n",
       "      <td>1.0</td>\n",
       "      <td>0.0</td>\n",
       "      <td>0.0</td>\n",
       "    </tr>\n",
       "    <tr>\n",
       "      <th>1</th>\n",
       "      <td>-1.915313</td>\n",
       "      <td>1</td>\n",
       "      <td>-0.092738</td>\n",
       "      <td>0.072199</td>\n",
       "      <td>0</td>\n",
       "      <td>1.633471</td>\n",
       "      <td>0</td>\n",
       "      <td>2.122573</td>\n",
       "      <td>0.0</td>\n",
       "      <td>0.0</td>\n",
       "      <td>...</td>\n",
       "      <td>0.0</td>\n",
       "      <td>1.0</td>\n",
       "      <td>0.0</td>\n",
       "      <td>0.0</td>\n",
       "      <td>0.0</td>\n",
       "      <td>0.0</td>\n",
       "      <td>0.0</td>\n",
       "      <td>0.0</td>\n",
       "      <td>1.0</td>\n",
       "      <td>0.0</td>\n",
       "    </tr>\n",
       "    <tr>\n",
       "      <th>2</th>\n",
       "      <td>-1.474158</td>\n",
       "      <td>0</td>\n",
       "      <td>-0.092738</td>\n",
       "      <td>-0.816773</td>\n",
       "      <td>0</td>\n",
       "      <td>0.977514</td>\n",
       "      <td>0</td>\n",
       "      <td>0.310912</td>\n",
       "      <td>0.0</td>\n",
       "      <td>1.0</td>\n",
       "      <td>...</td>\n",
       "      <td>0.0</td>\n",
       "      <td>1.0</td>\n",
       "      <td>0.0</td>\n",
       "      <td>0.0</td>\n",
       "      <td>0.0</td>\n",
       "      <td>0.0</td>\n",
       "      <td>0.0</td>\n",
       "      <td>0.0</td>\n",
       "      <td>1.0</td>\n",
       "      <td>0.0</td>\n",
       "    </tr>\n",
       "    <tr>\n",
       "      <th>3</th>\n",
       "      <td>0.180175</td>\n",
       "      <td>1</td>\n",
       "      <td>-0.663867</td>\n",
       "      <td>-0.198357</td>\n",
       "      <td>0</td>\n",
       "      <td>1.239897</td>\n",
       "      <td>0</td>\n",
       "      <td>-0.206705</td>\n",
       "      <td>0.0</td>\n",
       "      <td>1.0</td>\n",
       "      <td>...</td>\n",
       "      <td>0.0</td>\n",
       "      <td>1.0</td>\n",
       "      <td>0.0</td>\n",
       "      <td>0.0</td>\n",
       "      <td>0.0</td>\n",
       "      <td>0.0</td>\n",
       "      <td>0.0</td>\n",
       "      <td>0.0</td>\n",
       "      <td>1.0</td>\n",
       "      <td>0.0</td>\n",
       "    </tr>\n",
       "    <tr>\n",
       "      <th>4</th>\n",
       "      <td>0.290464</td>\n",
       "      <td>0</td>\n",
       "      <td>-0.663867</td>\n",
       "      <td>2.082050</td>\n",
       "      <td>0</td>\n",
       "      <td>0.583939</td>\n",
       "      <td>1</td>\n",
       "      <td>-0.379244</td>\n",
       "      <td>1.0</td>\n",
       "      <td>0.0</td>\n",
       "      <td>...</td>\n",
       "      <td>0.0</td>\n",
       "      <td>1.0</td>\n",
       "      <td>0.0</td>\n",
       "      <td>0.0</td>\n",
       "      <td>0.0</td>\n",
       "      <td>0.0</td>\n",
       "      <td>0.0</td>\n",
       "      <td>0.0</td>\n",
       "      <td>1.0</td>\n",
       "      <td>0.0</td>\n",
       "    </tr>\n",
       "    <tr>\n",
       "      <th>...</th>\n",
       "      <td>...</td>\n",
       "      <td>...</td>\n",
       "      <td>...</td>\n",
       "      <td>...</td>\n",
       "      <td>...</td>\n",
       "      <td>...</td>\n",
       "      <td>...</td>\n",
       "      <td>...</td>\n",
       "      <td>...</td>\n",
       "      <td>...</td>\n",
       "      <td>...</td>\n",
       "      <td>...</td>\n",
       "      <td>...</td>\n",
       "      <td>...</td>\n",
       "      <td>...</td>\n",
       "      <td>...</td>\n",
       "      <td>...</td>\n",
       "      <td>...</td>\n",
       "      <td>...</td>\n",
       "      <td>...</td>\n",
       "      <td>...</td>\n",
       "    </tr>\n",
       "    <tr>\n",
       "      <th>298</th>\n",
       "      <td>0.290464</td>\n",
       "      <td>0</td>\n",
       "      <td>0.478391</td>\n",
       "      <td>-0.101730</td>\n",
       "      <td>0</td>\n",
       "      <td>-1.165281</td>\n",
       "      <td>1</td>\n",
       "      <td>-0.724323</td>\n",
       "      <td>1.0</td>\n",
       "      <td>0.0</td>\n",
       "      <td>...</td>\n",
       "      <td>0.0</td>\n",
       "      <td>1.0</td>\n",
       "      <td>0.0</td>\n",
       "      <td>0.0</td>\n",
       "      <td>0.0</td>\n",
       "      <td>0.0</td>\n",
       "      <td>0.0</td>\n",
       "      <td>0.0</td>\n",
       "      <td>0.0</td>\n",
       "      <td>1.0</td>\n",
       "    </tr>\n",
       "    <tr>\n",
       "      <th>299</th>\n",
       "      <td>-1.033002</td>\n",
       "      <td>1</td>\n",
       "      <td>-1.234996</td>\n",
       "      <td>0.342756</td>\n",
       "      <td>0</td>\n",
       "      <td>-0.771706</td>\n",
       "      <td>0</td>\n",
       "      <td>0.138373</td>\n",
       "      <td>0.0</td>\n",
       "      <td>0.0</td>\n",
       "      <td>...</td>\n",
       "      <td>0.0</td>\n",
       "      <td>1.0</td>\n",
       "      <td>0.0</td>\n",
       "      <td>0.0</td>\n",
       "      <td>0.0</td>\n",
       "      <td>0.0</td>\n",
       "      <td>0.0</td>\n",
       "      <td>0.0</td>\n",
       "      <td>0.0</td>\n",
       "      <td>1.0</td>\n",
       "    </tr>\n",
       "    <tr>\n",
       "      <th>300</th>\n",
       "      <td>1.503641</td>\n",
       "      <td>1</td>\n",
       "      <td>0.706843</td>\n",
       "      <td>-1.029353</td>\n",
       "      <td>1</td>\n",
       "      <td>-0.378132</td>\n",
       "      <td>0</td>\n",
       "      <td>2.036303</td>\n",
       "      <td>1.0</td>\n",
       "      <td>0.0</td>\n",
       "      <td>...</td>\n",
       "      <td>0.0</td>\n",
       "      <td>0.0</td>\n",
       "      <td>0.0</td>\n",
       "      <td>1.0</td>\n",
       "      <td>0.0</td>\n",
       "      <td>0.0</td>\n",
       "      <td>0.0</td>\n",
       "      <td>0.0</td>\n",
       "      <td>0.0</td>\n",
       "      <td>1.0</td>\n",
       "    </tr>\n",
       "    <tr>\n",
       "      <th>301</th>\n",
       "      <td>0.290464</td>\n",
       "      <td>1</td>\n",
       "      <td>-0.092738</td>\n",
       "      <td>-2.227533</td>\n",
       "      <td>0</td>\n",
       "      <td>-1.515125</td>\n",
       "      <td>1</td>\n",
       "      <td>0.138373</td>\n",
       "      <td>1.0</td>\n",
       "      <td>0.0</td>\n",
       "      <td>...</td>\n",
       "      <td>0.0</td>\n",
       "      <td>0.0</td>\n",
       "      <td>1.0</td>\n",
       "      <td>0.0</td>\n",
       "      <td>0.0</td>\n",
       "      <td>0.0</td>\n",
       "      <td>0.0</td>\n",
       "      <td>0.0</td>\n",
       "      <td>0.0</td>\n",
       "      <td>1.0</td>\n",
       "    </tr>\n",
       "    <tr>\n",
       "      <th>302</th>\n",
       "      <td>0.290464</td>\n",
       "      <td>0</td>\n",
       "      <td>-0.092738</td>\n",
       "      <td>-0.198357</td>\n",
       "      <td>0</td>\n",
       "      <td>1.064975</td>\n",
       "      <td>0</td>\n",
       "      <td>-0.896862</td>\n",
       "      <td>0.0</td>\n",
       "      <td>1.0</td>\n",
       "      <td>...</td>\n",
       "      <td>0.0</td>\n",
       "      <td>0.0</td>\n",
       "      <td>1.0</td>\n",
       "      <td>0.0</td>\n",
       "      <td>0.0</td>\n",
       "      <td>0.0</td>\n",
       "      <td>0.0</td>\n",
       "      <td>0.0</td>\n",
       "      <td>1.0</td>\n",
       "      <td>0.0</td>\n",
       "    </tr>\n",
       "  </tbody>\n",
       "</table>\n",
       "<p>303 rows × 27 columns</p>\n",
       "</div>"
      ],
      "text/plain": [
       "          age  sex  trestbps      chol  fbs   thalach  exang   oldpeak  cp_0  \\\n",
       "0    0.952197    1  0.763956 -0.256334    1  0.015443      0  1.087338   0.0   \n",
       "1   -1.915313    1 -0.092738  0.072199    0  1.633471      0  2.122573   0.0   \n",
       "2   -1.474158    0 -0.092738 -0.816773    0  0.977514      0  0.310912   0.0   \n",
       "3    0.180175    1 -0.663867 -0.198357    0  1.239897      0 -0.206705   0.0   \n",
       "4    0.290464    0 -0.663867  2.082050    0  0.583939      1 -0.379244   1.0   \n",
       "..        ...  ...       ...       ...  ...       ...    ...       ...   ...   \n",
       "298  0.290464    0  0.478391 -0.101730    0 -1.165281      1 -0.724323   1.0   \n",
       "299 -1.033002    1 -1.234996  0.342756    0 -0.771706      0  0.138373   0.0   \n",
       "300  1.503641    1  0.706843 -1.029353    1 -0.378132      0  2.036303   1.0   \n",
       "301  0.290464    1 -0.092738 -2.227533    0 -1.515125      1  0.138373   1.0   \n",
       "302  0.290464    0 -0.092738 -0.198357    0  1.064975      0 -0.896862   0.0   \n",
       "\n",
       "     cp_1  ...  restecg_2  ca_0  ca_1  ca_2  ca_3  ca_4  thal_0  thal_1  \\\n",
       "0     0.0  ...        0.0   1.0   0.0   0.0   0.0   0.0     0.0     1.0   \n",
       "1     0.0  ...        0.0   1.0   0.0   0.0   0.0   0.0     0.0     0.0   \n",
       "2     1.0  ...        0.0   1.0   0.0   0.0   0.0   0.0     0.0     0.0   \n",
       "3     1.0  ...        0.0   1.0   0.0   0.0   0.0   0.0     0.0     0.0   \n",
       "4     0.0  ...        0.0   1.0   0.0   0.0   0.0   0.0     0.0     0.0   \n",
       "..    ...  ...        ...   ...   ...   ...   ...   ...     ...     ...   \n",
       "298   0.0  ...        0.0   1.0   0.0   0.0   0.0   0.0     0.0     0.0   \n",
       "299   0.0  ...        0.0   1.0   0.0   0.0   0.0   0.0     0.0     0.0   \n",
       "300   0.0  ...        0.0   0.0   0.0   1.0   0.0   0.0     0.0     0.0   \n",
       "301   0.0  ...        0.0   0.0   1.0   0.0   0.0   0.0     0.0     0.0   \n",
       "302   1.0  ...        0.0   0.0   1.0   0.0   0.0   0.0     0.0     0.0   \n",
       "\n",
       "     thal_2  thal_3  \n",
       "0       0.0     0.0  \n",
       "1       1.0     0.0  \n",
       "2       1.0     0.0  \n",
       "3       1.0     0.0  \n",
       "4       1.0     0.0  \n",
       "..      ...     ...  \n",
       "298     0.0     1.0  \n",
       "299     0.0     1.0  \n",
       "300     0.0     1.0  \n",
       "301     0.0     1.0  \n",
       "302     1.0     0.0  \n",
       "\n",
       "[303 rows x 27 columns]"
      ]
     },
     "execution_count": 78,
     "metadata": {},
     "output_type": "execute_result"
    }
   ],
   "source": [
    "X_norm_one_hot"
   ]
  },
  {
   "cell_type": "code",
   "execution_count": 79,
   "metadata": {},
   "outputs": [],
   "source": [
    "# create the model"
   ]
  },
  {
   "cell_type": "code",
   "execution_count": 80,
   "metadata": {},
   "outputs": [
    {
     "name": "stdout",
     "output_type": "stream",
     "text": [
      "Epoch 1/100\n",
      "8/8 [==============================] - 0s 46ms/step - loss: 0.6931 - accuracy: 0.4463 - val_loss: 0.7243 - val_accuracy: 0.5161\n",
      "Epoch 2/100\n",
      "8/8 [==============================] - 0s 6ms/step - loss: 0.6872 - accuracy: 0.4463 - val_loss: 0.7171 - val_accuracy: 0.5161\n",
      "Epoch 3/100\n",
      "8/8 [==============================] - 0s 5ms/step - loss: 0.6794 - accuracy: 0.4463 - val_loss: 0.7067 - val_accuracy: 0.5161\n",
      "Epoch 4/100\n",
      "8/8 [==============================] - 0s 6ms/step - loss: 0.6685 - accuracy: 0.4463 - val_loss: 0.6930 - val_accuracy: 0.5161\n",
      "Epoch 5/100\n",
      "8/8 [==============================] - 0s 6ms/step - loss: 0.6553 - accuracy: 0.4463 - val_loss: 0.6781 - val_accuracy: 0.5161\n",
      "Epoch 6/100\n",
      "8/8 [==============================] - 0s 5ms/step - loss: 0.6412 - accuracy: 0.4463 - val_loss: 0.6672 - val_accuracy: 0.5161\n",
      "Epoch 7/100\n",
      "8/8 [==============================] - 0s 6ms/step - loss: 0.6314 - accuracy: 0.4463 - val_loss: 0.6609 - val_accuracy: 0.5161\n",
      "Epoch 8/100\n",
      "8/8 [==============================] - 0s 6ms/step - loss: 0.6220 - accuracy: 0.5124 - val_loss: 0.6595 - val_accuracy: 0.6774\n",
      "Epoch 9/100\n",
      "8/8 [==============================] - 0s 5ms/step - loss: 0.6139 - accuracy: 0.7149 - val_loss: 0.6578 - val_accuracy: 0.7419\n",
      "Epoch 10/100\n",
      "8/8 [==============================] - 0s 6ms/step - loss: 0.6060 - accuracy: 0.7893 - val_loss: 0.6556 - val_accuracy: 0.6774\n",
      "Epoch 11/100\n",
      "8/8 [==============================] - 0s 6ms/step - loss: 0.5972 - accuracy: 0.8264 - val_loss: 0.6510 - val_accuracy: 0.6774\n",
      "Epoch 12/100\n",
      "8/8 [==============================] - 0s 6ms/step - loss: 0.5859 - accuracy: 0.8636 - val_loss: 0.6448 - val_accuracy: 0.7097\n",
      "Epoch 13/100\n",
      "8/8 [==============================] - 0s 6ms/step - loss: 0.5721 - accuracy: 0.9008 - val_loss: 0.6389 - val_accuracy: 0.7419\n",
      "Epoch 14/100\n",
      "8/8 [==============================] - 0s 6ms/step - loss: 0.5574 - accuracy: 0.9091 - val_loss: 0.6322 - val_accuracy: 0.7419\n",
      "Epoch 15/100\n",
      "8/8 [==============================] - 0s 6ms/step - loss: 0.5443 - accuracy: 0.9091 - val_loss: 0.6340 - val_accuracy: 0.7742\n",
      "Epoch 16/100\n",
      "8/8 [==============================] - 0s 6ms/step - loss: 0.5368 - accuracy: 0.9174 - val_loss: 0.6319 - val_accuracy: 0.7419\n",
      "Epoch 17/100\n",
      "8/8 [==============================] - 0s 6ms/step - loss: 0.5305 - accuracy: 0.9215 - val_loss: 0.6359 - val_accuracy: 0.7742\n",
      "Epoch 18/100\n",
      "8/8 [==============================] - 0s 6ms/step - loss: 0.5278 - accuracy: 0.9215 - val_loss: 0.6383 - val_accuracy: 0.7419\n",
      "Epoch 19/100\n",
      "8/8 [==============================] - 0s 7ms/step - loss: 0.5260 - accuracy: 0.9256 - val_loss: 0.6460 - val_accuracy: 0.7097\n",
      "Epoch 20/100\n",
      "8/8 [==============================] - 0s 7ms/step - loss: 0.5243 - accuracy: 0.9256 - val_loss: 0.6461 - val_accuracy: 0.7097\n",
      "Epoch 21/100\n",
      "8/8 [==============================] - 0s 6ms/step - loss: 0.5233 - accuracy: 0.9215 - val_loss: 0.6489 - val_accuracy: 0.7097\n",
      "Epoch 22/100\n",
      "8/8 [==============================] - 0s 6ms/step - loss: 0.5240 - accuracy: 0.9256 - val_loss: 0.6526 - val_accuracy: 0.7097\n",
      "Epoch 23/100\n",
      "8/8 [==============================] - 0s 6ms/step - loss: 0.5214 - accuracy: 0.9339 - val_loss: 0.6460 - val_accuracy: 0.7097\n",
      "Epoch 24/100\n",
      "8/8 [==============================] - 0s 6ms/step - loss: 0.5211 - accuracy: 0.9298 - val_loss: 0.6552 - val_accuracy: 0.7097\n",
      "Epoch 25/100\n",
      "8/8 [==============================] - 0s 7ms/step - loss: 0.5213 - accuracy: 0.9298 - val_loss: 0.6560 - val_accuracy: 0.7097\n",
      "Epoch 26/100\n",
      "8/8 [==============================] - 0s 6ms/step - loss: 0.5218 - accuracy: 0.9215 - val_loss: 0.6516 - val_accuracy: 0.7097\n",
      "Epoch 27/100\n",
      "8/8 [==============================] - 0s 6ms/step - loss: 0.5202 - accuracy: 0.9298 - val_loss: 0.6607 - val_accuracy: 0.6774\n",
      "Epoch 28/100\n",
      "8/8 [==============================] - 0s 6ms/step - loss: 0.5194 - accuracy: 0.9256 - val_loss: 0.6550 - val_accuracy: 0.7097\n",
      "Epoch 29/100\n",
      "8/8 [==============================] - 0s 6ms/step - loss: 0.5187 - accuracy: 0.9339 - val_loss: 0.6627 - val_accuracy: 0.7097\n",
      "Epoch 30/100\n",
      "8/8 [==============================] - 0s 6ms/step - loss: 0.5192 - accuracy: 0.9339 - val_loss: 0.6552 - val_accuracy: 0.7097\n",
      "Epoch 31/100\n",
      "8/8 [==============================] - 0s 6ms/step - loss: 0.5185 - accuracy: 0.9339 - val_loss: 0.6568 - val_accuracy: 0.7097\n",
      "Epoch 32/100\n",
      "8/8 [==============================] - 0s 6ms/step - loss: 0.5197 - accuracy: 0.9339 - val_loss: 0.6599 - val_accuracy: 0.6774\n",
      "Epoch 33/100\n",
      "8/8 [==============================] - 0s 6ms/step - loss: 0.5179 - accuracy: 0.9339 - val_loss: 0.6505 - val_accuracy: 0.7097\n",
      "Epoch 34/100\n",
      "8/8 [==============================] - 0s 6ms/step - loss: 0.5178 - accuracy: 0.9339 - val_loss: 0.6624 - val_accuracy: 0.6774\n",
      "Epoch 35/100\n",
      "8/8 [==============================] - 0s 7ms/step - loss: 0.5180 - accuracy: 0.9339 - val_loss: 0.6582 - val_accuracy: 0.7097\n",
      "Epoch 36/100\n",
      "8/8 [==============================] - 0s 6ms/step - loss: 0.5164 - accuracy: 0.9380 - val_loss: 0.6594 - val_accuracy: 0.6774\n",
      "Epoch 37/100\n",
      "8/8 [==============================] - 0s 7ms/step - loss: 0.5169 - accuracy: 0.9380 - val_loss: 0.6585 - val_accuracy: 0.7097\n",
      "Epoch 38/100\n",
      "8/8 [==============================] - 0s 6ms/step - loss: 0.5162 - accuracy: 0.9380 - val_loss: 0.6640 - val_accuracy: 0.6774\n",
      "Epoch 39/100\n",
      "8/8 [==============================] - 0s 6ms/step - loss: 0.5159 - accuracy: 0.9380 - val_loss: 0.6657 - val_accuracy: 0.6774\n",
      "Epoch 40/100\n",
      "8/8 [==============================] - 0s 6ms/step - loss: 0.5157 - accuracy: 0.9380 - val_loss: 0.6613 - val_accuracy: 0.7097\n",
      "Epoch 41/100\n",
      "8/8 [==============================] - 0s 5ms/step - loss: 0.5155 - accuracy: 0.9380 - val_loss: 0.6680 - val_accuracy: 0.6774\n",
      "Epoch 42/100\n",
      "8/8 [==============================] - 0s 6ms/step - loss: 0.5154 - accuracy: 0.9380 - val_loss: 0.6633 - val_accuracy: 0.6774\n",
      "Epoch 43/100\n",
      "8/8 [==============================] - 0s 6ms/step - loss: 0.5153 - accuracy: 0.9380 - val_loss: 0.6686 - val_accuracy: 0.6774\n",
      "Epoch 44/100\n",
      "8/8 [==============================] - 0s 6ms/step - loss: 0.5151 - accuracy: 0.9380 - val_loss: 0.6663 - val_accuracy: 0.6774\n",
      "Epoch 45/100\n",
      "8/8 [==============================] - 0s 6ms/step - loss: 0.5150 - accuracy: 0.9380 - val_loss: 0.6671 - val_accuracy: 0.6774\n",
      "Epoch 46/100\n",
      "8/8 [==============================] - 0s 7ms/step - loss: 0.5149 - accuracy: 0.9380 - val_loss: 0.6704 - val_accuracy: 0.6774\n",
      "Epoch 47/100\n",
      "8/8 [==============================] - 0s 6ms/step - loss: 0.5149 - accuracy: 0.9380 - val_loss: 0.6688 - val_accuracy: 0.6774\n",
      "Epoch 48/100\n",
      "8/8 [==============================] - 0s 6ms/step - loss: 0.5148 - accuracy: 0.9380 - val_loss: 0.6692 - val_accuracy: 0.6774\n",
      "Epoch 49/100\n",
      "8/8 [==============================] - 0s 6ms/step - loss: 0.5148 - accuracy: 0.9380 - val_loss: 0.6695 - val_accuracy: 0.6774\n",
      "Epoch 50/100\n",
      "8/8 [==============================] - 0s 6ms/step - loss: 0.5147 - accuracy: 0.9380 - val_loss: 0.6693 - val_accuracy: 0.6774\n",
      "Epoch 51/100\n",
      "8/8 [==============================] - 0s 6ms/step - loss: 0.5147 - accuracy: 0.9380 - val_loss: 0.6683 - val_accuracy: 0.6774\n",
      "Epoch 52/100\n",
      "8/8 [==============================] - 0s 7ms/step - loss: 0.5147 - accuracy: 0.9380 - val_loss: 0.6692 - val_accuracy: 0.6774\n",
      "Epoch 53/100\n",
      "8/8 [==============================] - 0s 6ms/step - loss: 0.5147 - accuracy: 0.9380 - val_loss: 0.6705 - val_accuracy: 0.6774\n",
      "Epoch 54/100\n",
      "8/8 [==============================] - 0s 6ms/step - loss: 0.5146 - accuracy: 0.9380 - val_loss: 0.6703 - val_accuracy: 0.6774\n",
      "Epoch 55/100\n",
      "8/8 [==============================] - 0s 6ms/step - loss: 0.5146 - accuracy: 0.9380 - val_loss: 0.6692 - val_accuracy: 0.6774\n",
      "Epoch 56/100\n",
      "8/8 [==============================] - 0s 7ms/step - loss: 0.5146 - accuracy: 0.9380 - val_loss: 0.6694 - val_accuracy: 0.6774\n",
      "Epoch 57/100\n",
      "8/8 [==============================] - 0s 6ms/step - loss: 0.5146 - accuracy: 0.9380 - val_loss: 0.6699 - val_accuracy: 0.6774\n",
      "Epoch 58/100\n",
      "8/8 [==============================] - 0s 7ms/step - loss: 0.5146 - accuracy: 0.9380 - val_loss: 0.6712 - val_accuracy: 0.6774\n",
      "Epoch 59/100\n",
      "8/8 [==============================] - 0s 6ms/step - loss: 0.5146 - accuracy: 0.9380 - val_loss: 0.6701 - val_accuracy: 0.6774\n",
      "Epoch 60/100\n",
      "8/8 [==============================] - 0s 6ms/step - loss: 0.5145 - accuracy: 0.9380 - val_loss: 0.6708 - val_accuracy: 0.6774\n",
      "Epoch 61/100\n",
      "8/8 [==============================] - 0s 5ms/step - loss: 0.5145 - accuracy: 0.9380 - val_loss: 0.6713 - val_accuracy: 0.6774\n",
      "Epoch 62/100\n",
      "8/8 [==============================] - 0s 6ms/step - loss: 0.5145 - accuracy: 0.9380 - val_loss: 0.6694 - val_accuracy: 0.6774\n",
      "Epoch 63/100\n",
      "8/8 [==============================] - 0s 6ms/step - loss: 0.5145 - accuracy: 0.9380 - val_loss: 0.6711 - val_accuracy: 0.6774\n",
      "Epoch 64/100\n",
      "8/8 [==============================] - 0s 6ms/step - loss: 0.5145 - accuracy: 0.9380 - val_loss: 0.6703 - val_accuracy: 0.6774\n",
      "Epoch 65/100\n",
      "8/8 [==============================] - 0s 7ms/step - loss: 0.5145 - accuracy: 0.9380 - val_loss: 0.6709 - val_accuracy: 0.6774\n",
      "Epoch 66/100\n",
      "8/8 [==============================] - 0s 6ms/step - loss: 0.5145 - accuracy: 0.9380 - val_loss: 0.6712 - val_accuracy: 0.6774\n",
      "Epoch 67/100\n",
      "8/8 [==============================] - 0s 6ms/step - loss: 0.5145 - accuracy: 0.9380 - val_loss: 0.6710 - val_accuracy: 0.6774\n",
      "Epoch 68/100\n",
      "8/8 [==============================] - 0s 6ms/step - loss: 0.5145 - accuracy: 0.9380 - val_loss: 0.6717 - val_accuracy: 0.6774\n",
      "Epoch 69/100\n",
      "8/8 [==============================] - 0s 6ms/step - loss: 0.5145 - accuracy: 0.9380 - val_loss: 0.6723 - val_accuracy: 0.6774\n",
      "Epoch 70/100\n",
      "8/8 [==============================] - 0s 6ms/step - loss: 0.5145 - accuracy: 0.9380 - val_loss: 0.6721 - val_accuracy: 0.6774\n",
      "Epoch 71/100\n",
      "8/8 [==============================] - 0s 6ms/step - loss: 0.5144 - accuracy: 0.9380 - val_loss: 0.6712 - val_accuracy: 0.6774\n",
      "Epoch 72/100\n",
      "8/8 [==============================] - 0s 6ms/step - loss: 0.5144 - accuracy: 0.9380 - val_loss: 0.6713 - val_accuracy: 0.6774\n",
      "Epoch 73/100\n",
      "8/8 [==============================] - 0s 6ms/step - loss: 0.5144 - accuracy: 0.9380 - val_loss: 0.6718 - val_accuracy: 0.6774\n",
      "Epoch 74/100\n",
      "8/8 [==============================] - 0s 6ms/step - loss: 0.5144 - accuracy: 0.9380 - val_loss: 0.6723 - val_accuracy: 0.6774\n",
      "Epoch 75/100\n",
      "8/8 [==============================] - 0s 7ms/step - loss: 0.5144 - accuracy: 0.9380 - val_loss: 0.6718 - val_accuracy: 0.6774\n",
      "Epoch 76/100\n",
      "8/8 [==============================] - 0s 6ms/step - loss: 0.5144 - accuracy: 0.9380 - val_loss: 0.6725 - val_accuracy: 0.6774\n",
      "Epoch 77/100\n",
      "8/8 [==============================] - 0s 6ms/step - loss: 0.5144 - accuracy: 0.9380 - val_loss: 0.6720 - val_accuracy: 0.6774\n",
      "Epoch 78/100\n",
      "8/8 [==============================] - 0s 6ms/step - loss: 0.5144 - accuracy: 0.9380 - val_loss: 0.6723 - val_accuracy: 0.6774\n",
      "Epoch 79/100\n",
      "8/8 [==============================] - 0s 7ms/step - loss: 0.5144 - accuracy: 0.9380 - val_loss: 0.6719 - val_accuracy: 0.6774\n",
      "Epoch 80/100\n",
      "8/8 [==============================] - 0s 6ms/step - loss: 0.5144 - accuracy: 0.9380 - val_loss: 0.6725 - val_accuracy: 0.6774\n",
      "Epoch 81/100\n",
      "8/8 [==============================] - 0s 6ms/step - loss: 0.5144 - accuracy: 0.9380 - val_loss: 0.6721 - val_accuracy: 0.6774\n",
      "Epoch 82/100\n",
      "8/8 [==============================] - 0s 6ms/step - loss: 0.5144 - accuracy: 0.9380 - val_loss: 0.6717 - val_accuracy: 0.6774\n",
      "Epoch 83/100\n",
      "8/8 [==============================] - 0s 6ms/step - loss: 0.5144 - accuracy: 0.9380 - val_loss: 0.6723 - val_accuracy: 0.6774\n",
      "Epoch 84/100\n",
      "8/8 [==============================] - 0s 6ms/step - loss: 0.5144 - accuracy: 0.9380 - val_loss: 0.6721 - val_accuracy: 0.6774\n",
      "Epoch 85/100\n",
      "8/8 [==============================] - 0s 7ms/step - loss: 0.5144 - accuracy: 0.9380 - val_loss: 0.6723 - val_accuracy: 0.6774\n",
      "Epoch 86/100\n",
      "8/8 [==============================] - 0s 6ms/step - loss: 0.5144 - accuracy: 0.9380 - val_loss: 0.6724 - val_accuracy: 0.6774\n",
      "Epoch 87/100\n",
      "8/8 [==============================] - 0s 6ms/step - loss: 0.5144 - accuracy: 0.9380 - val_loss: 0.6726 - val_accuracy: 0.6774\n",
      "Epoch 88/100\n",
      "8/8 [==============================] - 0s 6ms/step - loss: 0.5144 - accuracy: 0.9380 - val_loss: 0.6719 - val_accuracy: 0.6774\n",
      "Epoch 89/100\n",
      "8/8 [==============================] - 0s 8ms/step - loss: 0.5144 - accuracy: 0.9380 - val_loss: 0.6730 - val_accuracy: 0.6774\n",
      "Epoch 90/100\n",
      "8/8 [==============================] - 0s 7ms/step - loss: 0.5144 - accuracy: 0.9380 - val_loss: 0.6727 - val_accuracy: 0.6774\n",
      "Epoch 91/100\n",
      "8/8 [==============================] - 0s 6ms/step - loss: 0.5144 - accuracy: 0.9380 - val_loss: 0.6722 - val_accuracy: 0.6774\n",
      "Epoch 92/100\n",
      "8/8 [==============================] - 0s 7ms/step - loss: 0.5144 - accuracy: 0.9380 - val_loss: 0.6730 - val_accuracy: 0.6774\n",
      "Epoch 93/100\n",
      "8/8 [==============================] - 0s 6ms/step - loss: 0.5144 - accuracy: 0.9380 - val_loss: 0.6734 - val_accuracy: 0.6774\n",
      "Epoch 94/100\n",
      "8/8 [==============================] - 0s 7ms/step - loss: 0.5144 - accuracy: 0.9380 - val_loss: 0.6729 - val_accuracy: 0.6774\n",
      "Epoch 95/100\n",
      "8/8 [==============================] - 0s 6ms/step - loss: 0.5144 - accuracy: 0.9380 - val_loss: 0.6729 - val_accuracy: 0.6774\n",
      "Epoch 96/100\n",
      "8/8 [==============================] - 0s 7ms/step - loss: 0.5144 - accuracy: 0.9380 - val_loss: 0.6730 - val_accuracy: 0.6774\n",
      "Epoch 97/100\n",
      "8/8 [==============================] - 0s 6ms/step - loss: 0.5144 - accuracy: 0.9380 - val_loss: 0.6732 - val_accuracy: 0.6774\n",
      "Epoch 98/100\n",
      "8/8 [==============================] - 0s 6ms/step - loss: 0.5144 - accuracy: 0.9380 - val_loss: 0.6728 - val_accuracy: 0.6774\n",
      "Epoch 99/100\n",
      "8/8 [==============================] - 0s 6ms/step - loss: 0.5144 - accuracy: 0.9380 - val_loss: 0.6728 - val_accuracy: 0.6774\n",
      "Epoch 100/100\n",
      "8/8 [==============================] - 0s 6ms/step - loss: 0.5144 - accuracy: 0.9380 - val_loss: 0.6733 - val_accuracy: 0.6774\n"
     ]
    },
    {
     "data": {
      "image/png": "[encoded data removed]",
      "text/plain": [
       "<Figure size 432x288 with 1 Axes>"
      ]
     },
     "metadata": {
      "needs_background": "light"
     },
     "output_type": "display_data"
    },
    {
     "name": "stdout",
     "output_type": "stream",
     "text": [
      "1/1 [==============================] - 0s 1ms/step - loss: 0.5754 - accuracy: 0.8667\n",
      "test loss, test acc: [0.5753515362739563, 0.8666666746139526]\n",
      "Prediction: [1.]. Actual: [1]\n",
      "Prediction: [1.]. Actual: [1]\n",
      "Prediction: [1.]. Actual: [1]\n",
      "Prediction: [0.999]. Actual: [1]\n",
      "Prediction: [1.]. Actual: [1]\n",
      "Prediction: [0.]. Actual: [0]\n",
      "Prediction: [0.]. Actual: [0]\n",
      "Prediction: [1.]. Actual: [1]\n",
      "Prediction: [1.]. Actual: [1]\n",
      "Prediction: [1.]. Actual: [1]\n",
      "Prediction: [1.]. Actual: [0]\n",
      "Prediction: [0.94]. Actual: [1]\n",
      "Prediction: [0.834]. Actual: [1]\n",
      "Prediction: [1.]. Actual: [1]\n",
      "Prediction: [1.]. Actual: [1]\n",
      "Prediction: [0.]. Actual: [0]\n",
      "Prediction: [1.]. Actual: [0]\n",
      "Prediction: [1.]. Actual: [1]\n",
      "Prediction: [0.]. Actual: [0]\n",
      "Prediction: [1.]. Actual: [1]\n",
      "Prediction: [1.]. Actual: [1]\n",
      "Prediction: [0.]. Actual: [0]\n",
      "Prediction: [0.999]. Actual: [0]\n",
      "Prediction: [0.]. Actual: [0]\n",
      "Prediction: [0.]. Actual: [0]\n",
      "Prediction: [1.]. Actual: [1]\n",
      "Prediction: [0.]. Actual: [0]\n",
      "Prediction: [1.]. Actual: [0]\n",
      "Prediction: [0.]. Actual: [0]\n",
      "Prediction: [0.]. Actual: [0]\n"
     ]
    }
   ],
   "source": [
    "model = create_model(X_norm_one_hot, y, layer1_units=27, layer2_units=13 , layer3_units=6, layer4_units=3, epochs=100, training_rate=0.001, decay_rate=0.96, metric='accuracy')"
   ]
  },
  {
   "cell_type": "code",
   "execution_count": 81,
   "metadata": {},
   "outputs": [],
   "source": [
    "# RESULTS"
   ]
  },
  {
   "cell_type": "code",
   "execution_count": 82,
   "metadata": {},
   "outputs": [
    {
     "data": {
      "text/plain": [
       "'\\nThe model created was successful in predicting whether a patient had heart disease in 87% of cases.\\n\\nHowever we can see that accuracy was 94% on dev set. As the results have reduced on the test set there is likely bias here.\\n\\nMore tuning of parameters could be done here but I suspect bias may be difficult to avoid due to the small number amount of data (303 observations)\\n'"
      ]
     },
     "execution_count": 82,
     "metadata": {},
     "output_type": "execute_result"
    }
   ],
   "source": [
    "'''\n",
    "The model created was successful in predicting whether a patient had heart disease in 87% of cases.\n",
    "\n",
    "However we can see that accuracy was 94% on dev set. As the results have reduced on the test set there is likely bias here.\n",
    "\n",
    "More tuning of parameters could be done here but I suspect bias may be difficult to avoid due to the small number amount of data (303 observations)\n",
    "'''"
   ]
  },
  {
   "cell_type": "code",
   "execution_count": null,
   "metadata": {},
   "outputs": [],
   "source": []
  }
 ],
 "metadata": {
  "kernelspec": {
   "display_name": "Python 3",
   "language": "python",
   "name": "python3"
  },
  "language_info": {
   "codemirror_mode": {
    "name": "ipython",
    "version": 3
   },
   "file_extension": ".py",
   "mimetype": "text/x-python",
   "name": "python",
   "nbconvert_exporter": "python",
   "pygments_lexer": "ipython3",
   "version": "3.8.3"
  }
 },
 "nbformat": 4,
 "nbformat_minor": 4
}
